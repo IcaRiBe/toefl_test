{
 "cells": [
  {
   "cell_type": "code",
   "execution_count": null,
   "metadata": {},
   "outputs": [],
   "source": [
    "# default_exp prep"
   ]
  },
  {
   "cell_type": "markdown",
   "metadata": {},
   "source": [
    "# Preparing to take the test"
   ]
  },
  {
   "cell_type": "code",
   "execution_count": null,
   "metadata": {},
   "outputs": [],
   "source": [
    "#hide\n",
    "from nbdev.showdoc import *"
   ]
  },
  {
   "cell_type": "markdown",
   "metadata": {},
   "source": [
    "## Before the test\n",
    " - Become familiar with the test format. [Free preparation test](https://www.toeflgoanywhere.org/toefl-practice?gclid=Cj0KCQjw17n1BRDEARIsAFDHFewunoohzx08pUqItFnekIQPb2TQsmSHT-UBZI2lA0Wq6s-LGbtYem4aAs9REALw_wcB#free-preparation-resources).\n",
    " - Become familiar with the instructions. You will be able to skip the instructions in Structure and Written Expression section and Reading Comprehension section.\n",
    " - Inmerse yourself in the language (watching movies, television and listening to the radio).\n",
    " - Bring a watch so you can keep track of your time.\n",
    " - Relax the night before to your text!\n",
    " - Eat something before the exam because it is a long exam.\n",
    " - Arrive on time or before to the test center.\n",
    "\n"
   ]
  },
  {
   "cell_type": "markdown",
   "metadata": {},
   "source": [
    "### Study with apps, web sites and courses."
   ]
  },
  {
   "cell_type": "markdown",
   "metadata": {},
   "source": [
    "#### Apps\n",
    "\n",
    "1. TOEFL Vocabulary.\n",
    "2. TOEFL Listenning app.\n",
    "3. TOEFL Practice test.\n",
    "4. Magoosh TOEFL.\n",
    "5. TOEFL Test Pro.\n",
    "6. TOEFL Grammar Test Pro.\n",
    "7. 25 Simulator – TOEFL® Test with corrections\n",
    "8. Paprika Prep4 TOEFL Grammar\n",
    "9. TOEFL Structure\n",
    "10. Reading Comprehension\n",
    "11. TOEFL Reading- Preparation Test and Practice"
   ]
  },
  {
   "cell_type": "markdown",
   "metadata": {},
   "source": [
    "#### Courses\n",
    "\n",
    "\n",
    " 1. The Heinemann ELT TOEFL Preparation Course.\n",
    " 2. The Heinemann ELT TOEFL Practice Tests.\n",
    " 3. All the courses in the [TOEFL official site](https://www.ets.org/toefl)."
   ]
  },
  {
   "cell_type": "markdown",
   "metadata": {},
   "source": [
    "#### Web sites\n",
    "\n",
    "1. [TOEFL oficial site](https://www.ets.org/toefl)\n",
    "\n",
    "2. [English resource center](https://englishresourcecentr.yolasite.com/)\n",
    "\n",
    "3. [TOEFL Practice](https://httpswwwtoefl.wordpress.com/)\n",
    "\n",
    "4. [TOEFL. All you have to know about ](https://todo-sobre-el-toefl.webnode.mx/)\n"
   ]
  },
  {
   "cell_type": "markdown",
   "metadata": {},
   "source": [
    "## During the test\n",
    " - Mark only one answer to each question.\n",
    " - Completely fill the circle.\n",
    " - Erase any extra marks completely.\n",
    " - If you do not know the answer to a question, guess.\n",
    " - You can take notes in the blank areas of the test books during the listening parts of the test.\n",
    " - If you finish one section early, you may __not__ go on the next section before you are told to do so, and you may __not__ go back to a sections you have already worked on.\n"
   ]
  },
  {
   "cell_type": "markdown",
   "metadata": {},
   "source": [
    "###  What to bring\n",
    "\n",
    "What you have to bring to the center to take the test:\n",
    "\n",
    " - Admision form.\n",
    " - Identification Document.\n",
    " - Pencils, sharpener and erasers.\n",
    "   - A medium-soft black lead pencil (No.2 or HB).\n",
    " - Comfortable clothes.\n",
    "   - Adaptable to any room temperature."
   ]
  },
  {
   "cell_type": "markdown",
   "metadata": {},
   "source": [
    "#### Identification\n",
    "\n",
    "The acceptable ID identifications may vary according to the location but there are general guidelines.\n",
    "\n",
    "- Original.\n",
    "- Valid.\n",
    "    - Passport.\n",
    "    - National ID.\n",
    "    - Driver's license.\n",
    "    - State or province ID card.\n",
    "    - Military ID.\n",
    "- Full name may match exactly the name in the admision form.\n",
    "- Recent photograph.\n",
    "- Signature."
   ]
  },
  {
   "cell_type": "markdown",
   "metadata": {},
   "source": [
    "## Things to avoid"
   ]
  },
  {
   "cell_type": "markdown",
   "metadata": {},
   "source": [
    "A test supervisor is authorized to dismiss you from a test session or your scores may be canceled due to violations like:\n",
    " - Failing to follow instructions given by the test supervisor.\n",
    " - Behaving inappropriately.\n",
    " - Cheating.\n",
    "\n"
   ]
  },
  {
   "cell_type": "code",
   "execution_count": null,
   "metadata": {},
   "outputs": [],
   "source": []
  }
 ],
 "metadata": {
  "kernelspec": {
   "display_name": "Python 3",
   "language": "python",
   "name": "python3"
  }
 },
 "nbformat": 4,
 "nbformat_minor": 2
}
