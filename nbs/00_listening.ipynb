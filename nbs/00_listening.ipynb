{
 "cells": [
  {
   "cell_type": "code",
   "execution_count": null,
   "metadata": {},
   "outputs": [],
   "source": [
    "# default_exp listening"
   ]
  },
  {
   "cell_type": "markdown",
   "metadata": {},
   "source": [
    "# Listening Comprehension section\n",
    "\n",
    "> Measures the ability to understand spoken English as it is used in colleges and universities."
   ]
  },
  {
   "cell_type": "markdown",
   "metadata": {},
   "source": [
    "\n",
    "    a. Mini dialogues.\n",
    "\n",
    "    b. Longer conversations.\n",
    "    \n",
    "    c. Short talks."
   ]
  },
  {
   "cell_type": "markdown",
   "metadata": {},
   "source": [
    "| Section | Number of questions | Administration Time   | Score Scale   |\n",
    "|------|------|------|------|\n",
    "| Listening |   50  | 35 minutes| 31 - 68|"
   ]
  },
  {
   "cell_type": "markdown",
   "metadata": {},
   "source": [
    "If you want to improve your listening skills you have to learn the correct pronunciations for the sound that you do not use in your native language, If you know the correct pronunciations you will understand better.\n",
    "\n",
    "My way to recognize the correct pronunciations is watching series and movies originally in english with audio and subtitles in english where I can follow the sound that the characters make while reading the words they are saying."
   ]
  },
  {
   "cell_type": "code",
   "execution_count": null,
   "metadata": {},
   "outputs": [],
   "source": []
  }
 ],
 "metadata": {
  "kernelspec": {
   "display_name": "Python 3",
   "language": "python",
   "name": "python3"
  }
 },
 "nbformat": 4,
 "nbformat_minor": 4
}
