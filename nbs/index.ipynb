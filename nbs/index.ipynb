{
 "cells": [
  {
   "cell_type": "code",
   "execution_count": null,
   "metadata": {},
   "outputs": [],
   "source": [
    "#hide\n",
    "from your_lib.core import *"
   ]
  },
  {
   "cell_type": "markdown",
   "metadata": {},
   "source": [
    "# TOEFL Course notes.\n",
    "\n",
    "> TOEFL course final project web page.\n"
   ]
  },
  {
   "cell_type": "markdown",
   "metadata": {},
   "source": [
    "TOEFL is the abbreviation of **Test of English as a Foreign Language**, and has the object to measures your proficiency speaking English as a non-native speaker.\n",
    "\n",
    "There are three types of the test: \n",
    " 1. Paper version (ITP - Institutional-Testing Program).\n",
    " 2. Computer-based (CBT - Computer-based Test).\n",
    " 3. Online version (iBT - Internet-based Test).\n",
    " \n",
    "This page is about the TOEFL ITP."
   ]
  },
  {
   "cell_type": "markdown",
   "metadata": {},
   "source": [
    "## TOEFL ITP\n",
    "\n",
    "It is a paper based exam with multiple-choice format and four answers choices per question. The test has three sections (these will be looked upon with more details in their corresponding pages):\n",
    " - Listening Comprehension\n",
    " - Structure and Written Expression\n",
    " - Reading Comprehension.\n"
   ]
  },
  {
   "cell_type": "markdown",
   "metadata": {},
   "source": [
    "TOEFL is more commonly used for being accepted in international exchanges in universities or to apply to certain scholarships."
   ]
  },
  {
   "cell_type": "markdown",
   "metadata": {},
   "source": [
    "Scores obtained at an institutional administraition are reported __only__ to the institution administering the test. TOEFL ITP scores are valid for two years from the test date."
   ]
  },
  {
   "cell_type": "code",
   "execution_count": null,
   "metadata": {},
   "outputs": [],
   "source": []
  }
 ],
 "metadata": {
  "kernelspec": {
   "display_name": "Python 3",
   "language": "python",
   "name": "python3"
  }
 },
 "nbformat": 4,
 "nbformat_minor": 2
}
