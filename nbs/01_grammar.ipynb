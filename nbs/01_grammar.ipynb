{
 "cells": [
  {
   "cell_type": "code",
   "execution_count": null,
   "metadata": {},
   "outputs": [],
   "source": [
    "# default_exp grammar"
   ]
  },
  {
   "cell_type": "markdown",
   "metadata": {},
   "source": [
    "# Structure and Written Expression section\n",
    "\n",
    "> Measures recognition of selected structural and grammatical points in standard written English."
   ]
  },
  {
   "cell_type": "markdown",
   "metadata": {},
   "source": [
    "\n",
    "    a. Structure Grammar.\n",
    "    \n",
    "    b. Written expressions."
   ]
  },
  {
   "cell_type": "markdown",
   "metadata": {},
   "source": [
    "| Section | Number of questions | Administration Time   | Score Scale   |\n",
    "|------|------|------|------|\n",
    "| Written |   40  | 25 minutes| 31 - 68|"
   ]
  },
  {
   "cell_type": "markdown",
   "metadata": {},
   "source": [
    "If you inmerse yourself in the language through watching series and movies (with audio and subtitles in english), hearing podcasts or reading you will become familiar to the grammaticaly correct form of the language. When these tools are produced the slang that is used and the way they construct the sentences may not be similar to real life but is the correct way.\n",
    "\n"
   ]
  },
  {
   "cell_type": "code",
   "execution_count": null,
   "metadata": {},
   "outputs": [],
   "source": []
  }
 ],
 "metadata": {
  "kernelspec": {
   "display_name": "Python 3",
   "language": "python",
   "name": "python3"
  }
 },
 "nbformat": 4,
 "nbformat_minor": 4
}
