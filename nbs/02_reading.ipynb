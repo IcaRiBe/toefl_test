{
 "cells": [
  {
   "cell_type": "code",
   "execution_count": null,
   "metadata": {},
   "outputs": [],
   "source": [
    "# default_exp reading"
   ]
  },
  {
   "cell_type": "markdown",
   "metadata": {},
   "source": [
    "# Reading Comprehension section\n",
    "\n",
    "> Measures the ability to read and understand academic reading material written in English."
   ]
  },
  {
   "cell_type": "markdown",
   "metadata": {},
   "source": [
    "\n",
    "    a. 5-6 reading passages (each one longer than the previous one)."
   ]
  },
  {
   "cell_type": "markdown",
   "metadata": {},
   "source": [
    "| Section | Number of questions | Administration Time   | Score Scale   |\n",
    "|------|------|------|------|\n",
    "| Reading |   50  | 55 minutes| 31 - 67|"
   ]
  },
  {
   "cell_type": "markdown",
   "metadata": {},
   "source": [
    "The only way to be better at reading comprehension is __reading__.\n",
    "\n",
    "You can read, at least, fairy tales to get used to read in that language.\n",
    "\n",
    "Also if you are an slow reader just like me (even in my native language) you can put much more effort in this section reading any book, paper or news that appears in front just to make yourself a faster reader to __succeed__ in your goal of finishing this section on time."
   ]
  },
  {
   "cell_type": "code",
   "execution_count": null,
   "metadata": {},
   "outputs": [],
   "source": []
  }
 ],
 "metadata": {
  "kernelspec": {
   "display_name": "Python 3",
   "language": "python",
   "name": "python3"
  }
 },
 "nbformat": 4,
 "nbformat_minor": 4
}
